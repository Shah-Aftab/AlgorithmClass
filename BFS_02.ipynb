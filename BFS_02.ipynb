{
 "cells": [
  {
   "cell_type": "code",
   "execution_count": 1,
   "metadata": {},
   "outputs": [],
   "source": [
    "vertexList = ['A', 'B', 'C', 'D', 'E', 'F', 'G']\n",
    "edgeList = [(0,1), (1,2), (1,3), (3,4), (4,5), (1,6)]\n",
    "graphs = (vertexList, edgeList)"
   ]
  },
  {
   "cell_type": "code",
   "execution_count": 7,
   "metadata": {},
   "outputs": [],
   "source": [
    "def bfs(graph, start):\n",
    "    vertexList, edgeList = graph\n",
    "    visitedList = []\n",
    "    queue = [start]\n",
    "    adjacencyList = [[] for vertex in vertexList]\n",
    "\n",
    "    for edge in edgeList:\n",
    "        adjacencyList[edge[0]].append(edge[1])\n",
    "\n",
    "    while queue:\n",
    "        current = queue.pop()\n",
    "        for neighbor in adjacencyList[current]:\n",
    "            if not neighbor in visitedList:\n",
    "                queue.insert(0,neighbor)\n",
    "        visitedList.append(current)\n",
    "    return visitedList"
   ]
  },
  {
   "cell_type": "code",
   "execution_count": 8,
   "metadata": {},
   "outputs": [
    {
     "name": "stdout",
     "output_type": "stream",
     "text": [
      "[0, 1, 2, 3, 6, 4, 5]\n"
     ]
    }
   ],
   "source": [
    "print(bfs(graphs, 0))"
   ]
  },
  {
   "cell_type": "code",
   "execution_count": 9,
   "metadata": {},
   "outputs": [
    {
     "name": "stdout",
     "output_type": "stream",
     "text": [
      "[2]\n"
     ]
    }
   ],
   "source": [
    "print(bfs(graphs, 2))"
   ]
  },
  {
   "cell_type": "code",
   "execution_count": 10,
   "metadata": {},
   "outputs": [
    {
     "name": "stdout",
     "output_type": "stream",
     "text": [
      "[1, 2, 3, 6, 4, 5]\n"
     ]
    }
   ],
   "source": [
    "print(bfs(graphs, 1))"
   ]
  },
  {
   "cell_type": "code",
   "execution_count": null,
   "metadata": {},
   "outputs": [],
   "source": []
  }
 ],
 "metadata": {
  "kernelspec": {
   "display_name": "Python 3",
   "language": "python",
   "name": "python3"
  },
  "language_info": {
   "codemirror_mode": {
    "name": "ipython",
    "version": 3
   },
   "file_extension": ".py",
   "mimetype": "text/x-python",
   "name": "python",
   "nbconvert_exporter": "python",
   "pygments_lexer": "ipython3",
   "version": "3.7.3"
  }
 },
 "nbformat": 4,
 "nbformat_minor": 2
}
