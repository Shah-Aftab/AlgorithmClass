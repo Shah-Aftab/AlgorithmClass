{
 "cells": [
  {
   "cell_type": "code",
   "execution_count": 10,
   "metadata": {},
   "outputs": [],
   "source": [
    "def main():  \n",
    "   \n",
    "    matrix = [[0,1,1,0],\n",
    "              [0,0,1,0],\n",
    "              [1,0,0,1],\n",
    "              [0,0,0,1]];\n",
    "    \n",
    "\n",
    "    visited = [0,0,0,0]\n",
    "    queue = [0]\n",
    "    visited[0] = 1\n",
    "    node = queue.pop(0);\n",
    "    print(node)\n",
    "\n",
    "    while True:\n",
    "        for x in range (0, len(visited)):\n",
    "            if matrix[node][x] == 1 and visited[x] == 0:\n",
    "                visited[x] = 1;\n",
    "                queue.append(x)\t\n",
    "                \n",
    "        if len(queue) == 0:\n",
    "            break;\n",
    "        else:\n",
    "            node = queue.pop(0)\n",
    "            print(node)\n",
    "\n"
   ]
  },
  {
   "cell_type": "code",
   "execution_count": 11,
   "metadata": {},
   "outputs": [
    {
     "name": "stdout",
     "output_type": "stream",
     "text": [
      "0\n",
      "1\n",
      "2\n",
      "3\n"
     ]
    }
   ],
   "source": [
    "if __name__ == \"__main__\":\n",
    "\tmain()"
   ]
  },
  {
   "cell_type": "code",
   "execution_count": null,
   "metadata": {},
   "outputs": [],
   "source": []
  }
 ],
 "metadata": {
  "kernelspec": {
   "display_name": "Python 3",
   "language": "python",
   "name": "python3"
  },
  "language_info": {
   "codemirror_mode": {
    "name": "ipython",
    "version": 3
   },
   "file_extension": ".py",
   "mimetype": "text/x-python",
   "name": "python",
   "nbconvert_exporter": "python",
   "pygments_lexer": "ipython3",
   "version": "3.7.3"
  }
 },
 "nbformat": 4,
 "nbformat_minor": 2
}
