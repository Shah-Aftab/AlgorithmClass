{
 "cells": [
  {
   "cell_type": "code",
   "execution_count": 1,
   "metadata": {},
   "outputs": [],
   "source": [
    "from collections import defaultdict \n",
    "\n",
    "class Graph: \n",
    "\n",
    "\tdef __init__(self):  \n",
    "\t\tself.graph = defaultdict(list) \n",
    "\tdef addEdge(self,u,v): \n",
    "\t\tself.graph[u].append(v) \n",
    "\tdef DFSUtil(self,v,visited): \n",
    "\t\tvisited[v]= True\n",
    "\t\tprint (v) \n",
    "\t\tfor i in self.graph[v]: \n",
    "\t\t\tif visited[i] == False: \n",
    "\t\t\t\tself.DFSUtil(i, visited) \n",
    "\tdef DFS(self,v): \n",
    "\t\tvisited = [False]*(len(self.graph)) \n",
    "\t\tself.DFSUtil(v,visited) \n"
   ]
  },
  {
   "cell_type": "code",
   "execution_count": 3,
   "metadata": {},
   "outputs": [],
   "source": [
    "g = Graph() \n",
    "g.addEdge(0, 1)\n",
    "g.addEdge(0, 2) \n",
    "g.addEdge(1, 2) \n",
    "g.addEdge(2, 0) \n",
    "g.addEdge(2, 3) \n",
    "g.addEdge(3, 3) \n",
    " "
   ]
  },
  {
   "cell_type": "code",
   "execution_count": 4,
   "metadata": {},
   "outputs": [
    {
     "name": "stdout",
     "output_type": "stream",
     "text": [
      "Following is DFS from (starting from vertex 2)\n",
      "2\n",
      "0\n",
      "1\n",
      "3\n"
     ]
    }
   ],
   "source": [
    "print (\"Following is DFS from (starting from vertex 2)\")\n",
    "g.DFS(2) "
   ]
  },
  {
   "cell_type": "code",
   "execution_count": 5,
   "metadata": {},
   "outputs": [
    {
     "name": "stdout",
     "output_type": "stream",
     "text": [
      "Following is DFS from (starting from vertex 3)\n",
      "3\n"
     ]
    }
   ],
   "source": [
    "print (\"Following is DFS from (starting from vertex 3)\")\n",
    "g.DFS(3)"
   ]
  },
  {
   "cell_type": "code",
   "execution_count": 6,
   "metadata": {},
   "outputs": [
    {
     "name": "stdout",
     "output_type": "stream",
     "text": [
      "Following is DFS from (starting from vertex 0)\n",
      "0\n",
      "1\n",
      "2\n",
      "3\n"
     ]
    }
   ],
   "source": [
    "print (\"Following is DFS from (starting from vertex 0)\")\n",
    "g.DFS(0)"
   ]
  },
  {
   "cell_type": "code",
   "execution_count": null,
   "metadata": {},
   "outputs": [],
   "source": []
  }
 ],
 "metadata": {
  "kernelspec": {
   "display_name": "Python 3",
   "language": "python",
   "name": "python3"
  },
  "language_info": {
   "codemirror_mode": {
    "name": "ipython",
    "version": 3
   },
   "file_extension": ".py",
   "mimetype": "text/x-python",
   "name": "python",
   "nbconvert_exporter": "python",
   "pygments_lexer": "ipython3",
   "version": "3.7.3"
  }
 },
 "nbformat": 4,
 "nbformat_minor": 2
}
